{
 "cells": [
  {
   "cell_type": "markdown",
   "metadata": {},
   "source": [
    "'''<br>\n",
    "@Author: v sanjay kumar<br>\n",
    "@Date: 2024-07-25 11:30:30<br>\n",
    "@Last Modified by: v sanjay kumar<br>\n",
    "@Last Modified time: 2024-07-25 11:30:30.<br>\n",
    "@Title :Python program Bubble sort.<br>\n",
    "\n",
    "'''"
   ]
  },
  {
   "cell_type": "markdown",
   "metadata": {},
   "source": [
    "                                                Bubble  Sort                            "
   ]
  },
  {
   "cell_type": "code",
   "execution_count": 2,
   "metadata": {},
   "outputs": [
    {
     "name": "stdout",
     "output_type": "stream",
     "text": [
      "[1, 1, 2, 2, 3, 4, 4, 6, 52]\n"
     ]
    }
   ],
   "source": [
    "\n",
    "def bubble_sort(arr):\n",
    "    '''Function takes the array and returns the sorted array \n",
    "    \n",
    "    parameters list-arr\n",
    "\n",
    "    return -sorted list  \n",
    "    '''\n",
    "    n = len(arr)\n",
    "    for i in range(n):\n",
    "        swap = False\n",
    "        for j in range(0, n-i-1):\n",
    "            if arr[j] > arr[j+1]:\n",
    "                arr[j], arr[j+1] = arr[j+1], arr[j]\n",
    "                swap =True\n",
    "        if not swap:\n",
    "            break\n",
    "def main():\n",
    "    a = [1, 4, 2, 6, 4, 3, 2, 52, 1]\n",
    "    bubble_sort(a)\n",
    "    print(a)\n",
    "\n",
    "                 "
   ]
  },
  {
   "cell_type": "markdown",
   "metadata": {},
   "source": [
    "                                             Quick Sort"
   ]
  },
  {
   "cell_type": "code",
   "execution_count": 6,
   "metadata": {},
   "outputs": [
    {
     "name": "stdout",
     "output_type": "stream",
     "text": [
      "[0, 1, 2, 2, 3, 4, 5, 7, 7, 8]\n"
     ]
    }
   ],
   "source": [
    "\n",
    "def Quicksort(arr):\n",
    "    '''Function takes the array and returns the sorted array \n",
    "    \n",
    "     parameters list-arr\n",
    "\n",
    "     return -sorted list\n",
    "     '''\n",
    "    if len(arr) <= 1:\n",
    "        return arr\n",
    "    \n",
    "    else:\n",
    "        pivot=arr[len(arr)//2]\n",
    "        left=[i for i in arr if pivot >i]\n",
    "        middle=[i for i in arr if pivot==i]\n",
    "        right =[i for i in arr if pivot <i]\n",
    "    return Quicksort(left) + middle + Quicksort(right)\n",
    "\n",
    "\n",
    "arr=[2,5,3,7,4,2,1,7,8,0]\n",
    "print(Quicksort(arr))"
   ]
  },
  {
   "cell_type": "markdown",
   "metadata": {},
   "source": [
    "                                       Selection Sort"
   ]
  },
  {
   "cell_type": "code",
   "execution_count": 7,
   "metadata": {},
   "outputs": [
    {
     "name": "stdout",
     "output_type": "stream",
     "text": [
      "[0, 1, 1, 2, 2, 3, 3, 6, 6, 7, 9, 9]\n"
     ]
    }
   ],
   "source": [
    "\n",
    "def selection_sort(arr):\n",
    "    '''\n",
    "    Function takes the array and returns the sorted array \n",
    "    \n",
    "    parameters list-arr\n",
    "\n",
    "    return -sorted list\n",
    "    '''\n",
    "    for i in range(len(arr)-1):\n",
    "        min_index=i\n",
    "        for j in range(i+1,len(arr)):\n",
    "            if (arr[min_index]>arr[j]):\n",
    "                min_index=j\n",
    "        arr[min_index],arr[i]=arr[i],arr[min_index]\n",
    "    return arr\n",
    "\n",
    "def main():\n",
    "    arr=[3,6,3,9,2,7,9,2,1,6,0,1]\n",
    "\n",
    "    print(selection_sort(arr))"
   ]
  },
  {
   "cell_type": "markdown",
   "metadata": {},
   "source": [
    "                                              MERGE SORT   "
   ]
  },
  {
   "cell_type": "code",
   "execution_count": 12,
   "metadata": {},
   "outputs": [
    {
     "name": "stdout",
     "output_type": "stream",
     "text": [
      "[3, 5, 6, 8, 9, 11, 32, 33]\n"
     ]
    }
   ],
   "source": [
    "def merge_sort(a, b):\n",
    "    '''Function takes the array and returns the sorted array \n",
    "    \n",
    "     parameters list-arr\n",
    "\n",
    "     return -sorted list\n",
    "     '''\n",
    "    sorted_arr = []\n",
    "    i = j = 0\n",
    "\n",
    "    while i < len(a) and j < len(b):\n",
    "        if a[i] < b[j]:\n",
    "            sorted_arr.append(a[i])\n",
    "            i += 1\n",
    "        else:\n",
    "            sorted_arr.append(b[j])\n",
    "            j += 1\n",
    "\n",
    "    while i < len(a):\n",
    "        sorted_arr.append(a[i])\n",
    "        i += 1\n",
    "\n",
    "    while j < len(b):\n",
    "        sorted_arr.append(b[j])\n",
    "        j += 1\n",
    "\n",
    "    return sorted_arr\n",
    "\n",
    "\n",
    "def main():\n",
    "    arr=[3,6,8,9,5,11,32,33]\n",
    "\n",
    "    mid=len(arr)//2\n",
    "    left=arr[mid:]\n",
    "\n",
    "    right=arr[:mid]\n",
    "\n",
    "    print(merge_sort(left, right)) \n",
    "\n",
    "if __name__ == '__main__':\n",
    "    main()\n",
    "\n",
    "\n"
   ]
  },
  {
   "cell_type": "markdown",
   "metadata": {},
   "source": [
    "                                                   BINARY SEARCH"
   ]
  },
  {
   "cell_type": "code",
   "execution_count": 4,
   "metadata": {},
   "outputs": [
    {
     "name": "stdout",
     "output_type": "stream",
     "text": [
      "Element is present at index 7\n"
     ]
    }
   ],
   "source": [
    "def binary_search(arr, target):\n",
    "    '''Function takes the array and target returns the index value when element is not found return the -1\n",
    "    \n",
    "     parameters list,int-arr,target\n",
    "\n",
    "     return -Index of the target\n",
    "     '''\n",
    "    low = 0\n",
    "    high = len(arr) - 1\n",
    "\n",
    "    while low <= high:\n",
    "        mid = (low + high) // 2\n",
    "        if arr[mid] == target:\n",
    "            return mid\n",
    "        elif arr[mid] < target:\n",
    "            low = mid + 1\n",
    "        else:\n",
    "            high = mid - 1\n",
    "\n",
    "    return -1\n",
    "\n",
    "def main():\n",
    "    arr = [2, 5, 8, 12, 16, 23, 38, 56, 72, 91]\n",
    "    target = int(input(\"Enter a number:\"))\n",
    "    result = binary_search(arr, target)\n",
    "    print(f\"Element is present at index {result}\" if result != -1 else \"Element is not present in array\")\n",
    "\n",
    "\n",
    "if __name__ == \"__main__\":\n",
    "    main()\n"
   ]
  }
 ],
 "metadata": {
  "kernelspec": {
   "display_name": "Python 3",
   "language": "python",
   "name": "python3"
  },
  "language_info": {
   "codemirror_mode": {
    "name": "ipython",
    "version": 3
   },
   "file_extension": ".py",
   "mimetype": "text/x-python",
   "name": "python",
   "nbconvert_exporter": "python",
   "pygments_lexer": "ipython3",
   "version": "3.12.4"
  }
 },
 "nbformat": 4,
 "nbformat_minor": 2
}
